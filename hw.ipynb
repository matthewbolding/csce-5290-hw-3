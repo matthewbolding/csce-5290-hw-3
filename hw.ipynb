{
 "cells": [
  {
   "cell_type": "code",
   "execution_count": 18,
   "metadata": {},
   "outputs": [],
   "source": [
    "import numpy as np\n",
    "\n",
    "x_i = np.array([[ 0.12, -0.87,  0.33,  0.45],\n",
    "                [ 0.76,  0.21, -0.34,  0.67],\n",
    "                [-0.55,  0.18,  0.29, -0.73],\n",
    "                [ 0.03, -0.99,  0.42,  0.11],\n",
    "                [ 0.76,  0.21, -0.34,  0.67],\n",
    "                [-0.31,  0.66, -0.74,  0.09],\n",
    "                [-0.92,  0.37,  0.28, -0.50]])\n",
    "\n",
    "h_e = np.array([[ 0.64, -0.27,  0.89, -0.12],\n",
    "                [-0.45,  0.33,  0.71,  0.08],\n",
    "                [ 0.19, -0.94,  0.56,  0.37],\n",
    "                [ 0.03,  0.85, -0.41,  0.76],\n",
    "                [0, 0, 0, 0], [0, 0, 0, 0], [0, 0, 0, 0]])\n",
    "\n",
    "h_d = np.array([[0, 0, 0, 0], [0, 0, 0, 0], [0, 0, 0, 0], [0, 0, 0, 0],\n",
    "                [0.58, -0.13,  0.94, 0.22],\n",
    "                [0.45,  0.11, -0.88, 0.67],\n",
    "                [0, 0, 0, 0]])"
   ]
  },
  {
   "cell_type": "code",
   "execution_count": 19,
   "metadata": {},
   "outputs": [],
   "source": [
    "import torch\n",
    "\n",
    "x_i_tensor = torch.from_numpy(x_i)\n",
    "h_d_tensor = torch.from_numpy(h_d)\n",
    "h_e_tensor = torch.from_numpy(h_e)\n",
    "\n",
    "def score(h_d: torch.Tensor, h_e: torch.Tensor, verbose: bool=False):\n",
    "    num = torch.dot(h_d, h_e)\n",
    "    dim = h_d.size(dim=0)\n",
    "    denom = torch.sqrt(torch.as_tensor([dim]))\n",
    "\n",
    "    if verbose:\n",
    "        print(\"num: \", num)\n",
    "        print(\"dim: \", dim)\n",
    "        print(\"denom: \", denom)    \n",
    "    return torch.div(num, denom)"
   ]
  },
  {
   "cell_type": "code",
   "execution_count": null,
   "metadata": {},
   "outputs": [
    {
     "name": "stdout",
     "output_type": "stream",
     "text": [
      "num:  tensor(1.2165, dtype=torch.float64)\n",
      "dim:  4\n",
      "denom:  tensor([2.])\n",
      "tensor([0.6083])\n"
     ]
    }
   ],
   "source": []
  },
  {
   "cell_type": "code",
   "execution_count": null,
   "metadata": {},
   "outputs": [],
   "source": []
  }
 ],
 "metadata": {
  "kernelspec": {
   "display_name": ".venv",
   "language": "python",
   "name": "python3"
  },
  "language_info": {
   "codemirror_mode": {
    "name": "ipython",
    "version": 3
   },
   "file_extension": ".py",
   "mimetype": "text/x-python",
   "name": "python",
   "nbconvert_exporter": "python",
   "pygments_lexer": "ipython3",
   "version": "3.12.9"
  }
 },
 "nbformat": 4,
 "nbformat_minor": 2
}
