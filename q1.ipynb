{
 "cells": [
  {
   "cell_type": "markdown",
   "id": "134f6d55",
   "metadata": {},
   "source": [
    "## Question 1"
   ]
  },
  {
   "cell_type": "code",
   "execution_count": 2,
   "id": "0fb9c70a",
   "metadata": {},
   "outputs": [
    {
     "name": "stdout",
     "output_type": "stream",
     "text": [
      "tensor([0.0958, 0.1498, 0.2467, 0.3885])\n"
     ]
    }
   ],
   "source": [
    "import torch\n",
    "import torch.nn.functional as F\n",
    "\n",
    "h_e = torch.tensor([[ 0.64, -0.27,  0.89, -0.12],\n",
    "                    [-0.45,  0.33,  0.71,  0.08],\n",
    "                    [ 0.19, -0.94,  0.56,  0.37],\n",
    "                    [ 0.03,  0.85, -0.41,  0.76]])\n",
    "\n",
    "h_d = torch.tensor([0.45, 0.11, -0.88, 0.67])\n",
    "\n",
    "# Obtain the scores...\n",
    "scores = torch.matmul(h_e, h_d) / (h_d.size(dim=0) ** 0.5)\n",
    "\n",
    "# Calculate the weights...\n",
    "weights = F.softmax(scores, dim=0)\n",
    "\n",
    "# Calculate c_i by broadcasting the weights across h_e and summing...\n",
    "c_i = torch.sum(weights.unsqueeze(1) * h_e, dim=0)\n",
    "\n",
    "print(c_i)\n"
   ]
  }
 ],
 "metadata": {
  "kernelspec": {
   "display_name": ".venv",
   "language": "python",
   "name": "python3"
  },
  "language_info": {
   "codemirror_mode": {
    "name": "ipython",
    "version": 3
   },
   "file_extension": ".py",
   "mimetype": "text/x-python",
   "name": "python",
   "nbconvert_exporter": "python",
   "pygments_lexer": "ipython3",
   "version": "3.12.9"
  }
 },
 "nbformat": 4,
 "nbformat_minor": 5
}
